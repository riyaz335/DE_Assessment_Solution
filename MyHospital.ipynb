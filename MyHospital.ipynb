{
 "cells": [
  {
   "cell_type": "code",
   "execution_count": 0,
   "metadata": {
    "application/vnd.databricks.v1+cell": {
     "cellMetadata": {
      "byteLimit": 2048000,
      "rowLimit": 10000
     },
     "inputWidgets": {},
     "nuid": "76692057-e130-423c-8069-80cdc821e302",
     "showTitle": false,
     "title": ""
    }
   },
   "outputs": [
    {
     "output_type": "execute_result",
     "data": {
      "text/plain": [
       "[FileInfo(path='dbfs:/mnt/raw/cdrdm/test_csv/Custumer.csv', name='Custumer.csv', size=420, modificationTime=1729611883000)]"
      ]
     },
     "execution_count": 167,
     "metadata": {},
     "output_type": "execute_result"
    }
   ],
   "source": [
    "dbutils.fs.ls(\"dbfs:/mnt/raw/cdrdm/test_csv/\")"
   ]
  },
  {
   "cell_type": "code",
   "execution_count": 0,
   "metadata": {
    "application/vnd.databricks.v1+cell": {
     "cellMetadata": {
      "byteLimit": 2048000,
      "rowLimit": 10000
     },
     "inputWidgets": {},
     "nuid": "6ef3cffa-7124-4513-af4d-e183c6b512b2",
     "showTitle": false,
     "title": ""
    }
   },
   "outputs": [],
   "source": [
    "from pyspark.sql.types import *\n",
    "from pyspark.sql.functions import *\n",
    "from pyspark.sql.window import Window\n",
    "from pyspark.sql import SparkSession"
   ]
  },
  {
   "cell_type": "code",
   "execution_count": 0,
   "metadata": {
    "application/vnd.databricks.v1+cell": {
     "cellMetadata": {
      "byteLimit": 2048000,
      "rowLimit": 10000
     },
     "inputWidgets": {},
     "nuid": "c3c43964-c608-43e0-9e64-684e1c8b8ca0",
     "showTitle": false,
     "title": ""
    }
   },
   "outputs": [],
   "source": [
    "\n",
    "# Create the process considering we are getting bilions of data every day for that I initialized Spark Session with configurations for large datasets\n",
    "\n",
    "spark = SparkSession.builder \\\n",
    "    .appName(\"LargeScaleCustomerETL\") \\\n",
    "    .config(\"spark.sql.shuffle.partitions\", 1000) \\\n",
    "    .config(\"spark.executor.memory\", \"16g\") \\\n",
    "    .config(\"spark.executor.cores\", \"8\") \\\n",
    "    .getOrCreate()"
   ]
  },
  {
   "cell_type": "code",
   "execution_count": 0,
   "metadata": {
    "application/vnd.databricks.v1+cell": {
     "cellMetadata": {
      "byteLimit": 2048000,
      "rowLimit": 10000
     },
     "inputWidgets": {},
     "nuid": "568fd43d-1f33-4d26-8b15-9f256a1532cd",
     "showTitle": false,
     "title": ""
    }
   },
   "outputs": [],
   "source": [
    "strct=StructType([StructField('_c0', StringType(), True), StructField('H', StringType(), True), StructField('Customer_Name', StringType(), True), StructField('Customer_Id', IntegerType(), True), StructField('Open_Date', IntegerType(), True), StructField('Last_Consulted_Date', IntegerType(), True), StructField('Vaccination_Id', StringType(), True), StructField('Dr_Name', StringType(), True), StructField('State', StringType(), True), StructField('Country', StringType(), True), StructField('DOB', IntegerType(), True), StructField('Is_Active', StringType(), True)])"
   ]
  },
  {
   "cell_type": "code",
   "execution_count": 0,
   "metadata": {
    "application/vnd.databricks.v1+cell": {
     "cellMetadata": {
      "byteLimit": 2048000,
      "rowLimit": 10000
     },
     "inputWidgets": {},
     "nuid": "6e8d1d06-9890-4894-8487-798b65f58356",
     "showTitle": false,
     "title": ""
    }
   },
   "outputs": [],
   "source": [
    "df=spark.read.format(\"csv\").option(\"header\", \"true\").option(\"delimiter\", \"|\").schema(strct).load(\"dbfs:/mnt/raw/cdrdm/test_csv/Custumer.csv\").drop(\"_c0\",\"H\")"
   ]
  },
  {
   "cell_type": "code",
   "execution_count": 0,
   "metadata": {
    "application/vnd.databricks.v1+cell": {
     "cellMetadata": {
      "byteLimit": 2048000,
      "rowLimit": 10000
     },
     "inputWidgets": {},
     "nuid": "64615a32-a8b5-4d16-9edc-0eecf4866fc2",
     "showTitle": false,
     "title": ""
    }
   },
   "outputs": [],
   "source": [
    "# 3. Validating the data\n",
    "df_valid=df.filter(col(\"Customer_Name\").isNotNull()&col(\"Customer_ID\").isNotNull())"
   ]
  },
  {
   "cell_type": "code",
   "execution_count": 0,
   "metadata": {
    "application/vnd.databricks.v1+cell": {
     "cellMetadata": {
      "byteLimit": 2048000,
      "rowLimit": 10000
     },
     "inputWidgets": {},
     "nuid": "9a79792b-0ecd-420d-a3ec-f2357f3faf43",
     "showTitle": false,
     "title": ""
    }
   },
   "outputs": [],
   "source": [
    "df_with_date = df_valid.withColumn(\"DOB\",to_date(lpad(col(\"DOB\").cast(\"string\"), 8, '0'), 'ddMMyyyy')).withColumn(\"Open_Date\",to_date(col(\"Open_Date\"), 'yyyyMMdd')).withColumn(\"Last_Consulted_Date\",to_date(col(\"Last_Consulted_Date\"), 'yyyyMMdd'))"
   ]
  },
  {
   "cell_type": "code",
   "execution_count": 0,
   "metadata": {
    "application/vnd.databricks.v1+cell": {
     "cellMetadata": {
      "byteLimit": 2048000,
      "rowLimit": 10000
     },
     "inputWidgets": {},
     "nuid": "5f2401a8-0f15-4393-8de2-952bd9acfa87",
     "showTitle": false,
     "title": ""
    }
   },
   "outputs": [
    {
     "output_type": "stream",
     "name": "stdout",
     "output_type": "stream",
     "text": [
      "+-------------+-----------+----------+-------------------+--------------+-------+-----+-------+----------+---------+\n|Customer_Name|Customer_Id| Open_Date|Last_Consulted_Date|Vaccination_Id|Dr_Name|State|Country|       DOB|Is_Active|\n+-------------+-----------+----------+-------------------+--------------+-------+-----+-------+----------+---------+\n|        Jacob|       1256|2010-10-12|         2012-10-13|           MVD|   Paul|  VIC|     AU|1987-03-06|        A|\n|         Matt|      12345|2010-10-12|         2012-10-13|           MVD|   Paul|  BOS|    NYC|1987-03-06|        A|\n|         Alex|     123457|2010-10-12|         2012-10-13|           MVD|   Paul|   SA|    USA|1987-03-06|        A|\n|         John|     123458|2010-10-12|         2012-10-13|           MVD|   Paul|   TN|    IND|1987-03-06|        A|\n|       Mathew|     123459|2010-10-12|         2012-10-13|           MVD|   Paul|  WAS|   PHIL|1987-03-06|        A|\n+-------------+-----------+----------+-------------------+--------------+-------+-----+-------+----------+---------+\n\n"
     ]
    }
   ],
   "source": [
    "#If the customer is shifted to another country and visits from that country then consider the record with the latest consultant date.\n",
    "window_spec=Window.partitionBy(\"Customer_ID\").orderBy(col(\"Last_Consulted_Date\").desc())\n",
    "latest_df=df_with_date.withColumn(\"row_num\",row_number().over(window_spec))\\\n",
    "  .filter(col(\"row_num\") == 1)\\\n",
    "  .drop(\"row_num\")\n",
    "\n",
    "latest_df.show(5)"
   ]
  },
  {
   "cell_type": "code",
   "execution_count": 0,
   "metadata": {
    "application/vnd.databricks.v1+cell": {
     "cellMetadata": {
      "byteLimit": 2048000,
      "rowLimit": 10000
     },
     "inputWidgets": {},
     "nuid": "267829b9-ffb7-4a4c-9ea1-c6a551516fa0",
     "showTitle": false,
     "title": ""
    }
   },
   "outputs": [],
   "source": [
    "# 2. Create the above tables with additional derived columns:age and days since last consulted>30\n",
    "intermediate_data=latest_df.withColumn(\"Age\",floor(datediff(col(\"Last_Consulted_Date\"),col(\"DOB\"))/365))\\\n",
    "  .withColumn(\"Days_Last_Consulted\",datediff(current_date(),col(\"Last_Consulted_Date\")))\n",
    "df_filtered=intermediate_data.filter(col(\"Days_Last_Consulted\")>30)"
   ]
  },
  {
   "cell_type": "code",
   "execution_count": 0,
   "metadata": {
    "application/vnd.databricks.v1+cell": {
     "cellMetadata": {
      "byteLimit": 2048000,
      "rowLimit": 10000
     },
     "inputWidgets": {},
     "nuid": "91ed366f-3956-48ab-bf63-4fff73a42149",
     "showTitle": false,
     "title": ""
    }
   },
   "outputs": [
    {
     "output_type": "display_data",
     "data": {
      "text/html": [
       "<style scoped>\n",
       "  .table-result-container {\n",
       "    max-height: 300px;\n",
       "    overflow: auto;\n",
       "  }\n",
       "  table, th, td {\n",
       "    border: 1px solid black;\n",
       "    border-collapse: collapse;\n",
       "  }\n",
       "  th, td {\n",
       "    padding: 5px;\n",
       "  }\n",
       "  th {\n",
       "    text-align: left;\n",
       "  }\n",
       "</style><div class='table-result-container'><table class='table-result'><thead style='background-color: white'><tr><th>Customer_Name</th><th>Customer_Id</th><th>Open_Date</th><th>Last_Consulted_Date</th><th>Vaccination_Id</th><th>Dr_Name</th><th>State</th><th>Country</th><th>DOB</th><th>Is_Active</th><th>Age</th><th>Days_Last_Consulted</th></tr></thead><tbody><tr><td>Jacob</td><td>1256</td><td>2010-10-12</td><td>2012-10-13</td><td>MVD</td><td>Paul</td><td>VIC</td><td>AU</td><td>1987-03-06</td><td>A</td><td>25</td><td>4393</td></tr><tr><td>Matt</td><td>12345</td><td>2010-10-12</td><td>2012-10-13</td><td>MVD</td><td>Paul</td><td>BOS</td><td>NYC</td><td>1987-03-06</td><td>A</td><td>25</td><td>4393</td></tr><tr><td>Alex</td><td>123457</td><td>2010-10-12</td><td>2012-10-13</td><td>MVD</td><td>Paul</td><td>SA</td><td>USA</td><td>1987-03-06</td><td>A</td><td>25</td><td>4393</td></tr><tr><td>John</td><td>123458</td><td>2010-10-12</td><td>2012-10-13</td><td>MVD</td><td>Paul</td><td>TN</td><td>IND</td><td>1987-03-06</td><td>A</td><td>25</td><td>4393</td></tr><tr><td>Mathew</td><td>123459</td><td>2010-10-12</td><td>2012-10-13</td><td>MVD</td><td>Paul</td><td>WAS</td><td>PHIL</td><td>1987-03-06</td><td>A</td><td>25</td><td>4393</td></tr></tbody></table></div>"
      ]
     },
     "metadata": {
      "application/vnd.databricks.v1+output": {
       "addedWidgets": {},
       "aggData": [],
       "aggError": "",
       "aggOverflow": false,
       "aggSchema": [],
       "aggSeriesLimitReached": false,
       "aggType": "",
       "arguments": {},
       "columnCustomDisplayInfos": {},
       "data": [
        [
         "Jacob",
         1256,
         "2010-10-12",
         "2012-10-13",
         "MVD",
         "Paul",
         "VIC",
         "AU",
         "1987-03-06",
         "A",
         25,
         4393
        ],
        [
         "Matt",
         12345,
         "2010-10-12",
         "2012-10-13",
         "MVD",
         "Paul",
         "BOS",
         "NYC",
         "1987-03-06",
         "A",
         25,
         4393
        ],
        [
         "Alex",
         123457,
         "2010-10-12",
         "2012-10-13",
         "MVD",
         "Paul",
         "SA",
         "USA",
         "1987-03-06",
         "A",
         25,
         4393
        ],
        [
         "John",
         123458,
         "2010-10-12",
         "2012-10-13",
         "MVD",
         "Paul",
         "TN",
         "IND",
         "1987-03-06",
         "A",
         25,
         4393
        ],
        [
         "Mathew",
         123459,
         "2010-10-12",
         "2012-10-13",
         "MVD",
         "Paul",
         "WAS",
         "PHIL",
         "1987-03-06",
         "A",
         25,
         4393
        ]
       ],
       "datasetInfos": [],
       "dbfsResultPath": null,
       "isJsonSchema": true,
       "metadata": {},
       "overflow": false,
       "plotOptions": {
        "customPlotOptions": {},
        "displayType": "table",
        "pivotAggregation": null,
        "pivotColumns": null,
        "xColumns": null,
        "yColumns": null
       },
       "removedWidgets": [],
       "schema": [
        {
         "metadata": "{}",
         "name": "Customer_Name",
         "type": "\"string\""
        },
        {
         "metadata": "{}",
         "name": "Customer_Id",
         "type": "\"integer\""
        },
        {
         "metadata": "{}",
         "name": "Open_Date",
         "type": "\"date\""
        },
        {
         "metadata": "{}",
         "name": "Last_Consulted_Date",
         "type": "\"date\""
        },
        {
         "metadata": "{}",
         "name": "Vaccination_Id",
         "type": "\"string\""
        },
        {
         "metadata": "{}",
         "name": "Dr_Name",
         "type": "\"string\""
        },
        {
         "metadata": "{}",
         "name": "State",
         "type": "\"string\""
        },
        {
         "metadata": "{}",
         "name": "Country",
         "type": "\"string\""
        },
        {
         "metadata": "{}",
         "name": "DOB",
         "type": "\"date\""
        },
        {
         "metadata": "{}",
         "name": "Is_Active",
         "type": "\"string\""
        },
        {
         "metadata": "{}",
         "name": "Age",
         "type": "\"long\""
        },
        {
         "metadata": "{}",
         "name": "Days_Last_Consulted",
         "type": "\"integer\""
        }
       ],
       "type": "table"
      }
     },
     "output_type": "display_data"
    }
   ],
   "source": [
    "display(df_filtered)"
   ]
  },
  {
   "cell_type": "code",
   "execution_count": 0,
   "metadata": {
    "application/vnd.databricks.v1+cell": {
     "cellMetadata": {
      "byteLimit": 2048000,
      "rowLimit": 10000
     },
     "inputWidgets": {},
     "nuid": "d27071de-9afd-485a-a979-4d77dca8cc05",
     "showTitle": false,
     "title": ""
    }
   },
   "outputs": [
    {
     "output_type": "stream",
     "name": "stdout",
     "output_type": "stream",
     "text": [
      "Data for IND written successfully.\nData for PHIL written successfully.\nData for AU written successfully.\nData for USA written successfully.\nData for NYC written successfully.\n"
     ]
    }
   ],
   "source": [
    "#All customers related to india will go to Table_India and so on.\n",
    "# 1. Create table queries dynamically.\n"
    "countries = df_filtered.select(\"Country\").distinct().rdd.flatMap(lambda x: x).collect()\n",
    "\n",
    "for country in countries:\n",
    "    country_df = df_filtered.filter(col(\"Country\") == country)\n",
    "    country_df.write.format(\"delta\") \\\n",
    "      .partitionBy(\"Last_Consulted_Date\") \\\n",
    "      .mode(\"append\") \\\n",
    "      .saveAsTable(f\"Customer_{country}\")\n",
    "    print(f\"Data for {country} written successfully.\")\n",
    " "
   ]
  },
  {
   "cell_type": "code",
   "execution_count": 0,
   "metadata": {
    "application/vnd.databricks.v1+cell": {
     "cellMetadata": {
      "byteLimit": 2048000,
      "rowLimit": 10000
     },
     "inputWidgets": {},
     "nuid": "82a535f4-3959-4df8-9c4f-cd7ef03491ff",
     "showTitle": false,
     "title": ""
    }
   },
   "outputs": [],
   "source": [
    "dbutils.notebook.exit(\"Success\")"
   ]
  }
 ],
 "metadata": {
  "application/vnd.databricks.v1+notebook": {
   "dashboards": [],
   "environmentMetadata": {
    "base_environment": "",
    "client": "1"
   },
   "language": "python",
   "notebookMetadata": {
    "mostRecentlyExecutedCommandWithImplicitDF": {
     "commandId": 3603914331819498,
     "dataframes": [
      "_sqldf"
     ]
    },
    "pythonIndentUnit": 2
   },
   "notebookName": "MyHospital",
   "widgets": {}
  }
 },
 "nbformat": 4,
 "nbformat_minor": 0
}
